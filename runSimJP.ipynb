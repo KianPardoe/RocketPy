{
 "cells": [
  {
   "cell_type": "code",
   "execution_count": null,
   "metadata": {},
   "outputs": [],
   "source": [
    "## Rocket Python With Control Surfaces \n",
    "#### Enviroment Set Up"
   ]
  },
  {
   "cell_type": "code",
   "execution_count": null,
   "metadata": {},
   "outputs": [],
   "source": [
    "%reset\n",
    "from rocketpy import *\n",
    "\n",
    "Env = Environment(\n",
    "    railLength=5.2, latitude=32.990254, longitude=-106.974998, elevation=1400\n",
    ")\n",
    "import datetime\n",
    "#tomorrow = datetime.date.today() + datetime.timedelta(days=1)\n",
    "#Env.setDate((tomorrow.year, tomorrow.month, tomorrow.day, 12))  # Hour given in UTC time\n",
    "URL = \"http://weather.uwyo.edu/cgi-bin/sounding?region=samer&TYPE=TEXT%3ALIST&YEAR=2019&MONTH=02&FROM=0500&TO=0512&STNM=83779\"\n",
    "Env.setAtmosphericModel(type=\"WyomingSounding\", file=URL)\n",
    "#Env.setAtmosphericModel(type=\"Reanalysis\", file=\"/data/weather/\")\n",
    "#Env.info()"
   ]
  },
  {
   "cell_type": "markdown",
   "metadata": {},
   "source": [
    "#### Motor Setup"
   ]
  },
  {
   "cell_type": "code",
   "execution_count": null,
   "metadata": {},
   "outputs": [],
   "source": [
    "\n",
    "Pro75M1670 = SolidMotor(\n",
    "    #thrustSource=\"../../data/motors/Cesaroni_M1670.eng\",\n",
    "    thrustSource=\"data/motors/Cesaroni_M1670.eng\",\n",
    "    burnOut=3.9,\n",
    "    grainNumber=5,\n",
    "    grainSeparation=5 / 1000,\n",
    "    grainDensity=1815,\n",
    "    grainOuterRadius=33 / 1000,\n",
    "    grainInitialInnerRadius=15 / 1000,\n",
    "    grainInitialHeight=120 / 1000,\n",
    "    nozzleRadius=33 / 1000,\n",
    "    throatRadius=11 / 1000,\n",
    "    interpolationMethod=\"linear\",\n",
    ")\n",
    "\n",
    "Pro75M1670.info()\n"
   ]
  },
  {
   "cell_type": "markdown",
   "metadata": {},
   "source": [
    "#### Rocket Setup"
   ]
  },
  {
   "cell_type": "code",
   "execution_count": null,
   "metadata": {},
   "outputs": [],
   "source": [
    "Calisto = Rocket(\n",
    "    motor=Pro75M1670,\n",
    "    radius=127 / 2000,\n",
    "    mass=19.197 - 2.956,\n",
    "    inertiaI=6.60,\n",
    "    inertiaZ=0.0351,\n",
    "    distanceRocketNozzle=-1.255,\n",
    "    distanceRocketPropellant=-0.85704,\n",
    "    powerOffDrag=\"data/proxima/proxima.csv\",\n",
    "    powerOnDrag=\"data/proxima/proxima.csv\",\n",
    ")\n",
    "\n",
    "Calisto.setRailButtons([0.2, -0.5])\n",
    "\n",
    "NoseCone = Calisto.addNose(length=0.55829, kind=\"vonKarman\", distanceToCM=0.71971)\n",
    "\n",
    "FinSet = Calisto.addFins(\n",
    "    4, span=0.100, rootChord=0.120, tipChord=0.040, distanceToCM=-1.04956\n",
    ")\n",
    "\n",
    "Tail = Calisto.addTail(\n",
    "    topRadius=0.0635, bottomRadius=0.0435, length=0.060, distanceToCM=-1.194656\n",
    ")"
   ]
  },
  {
   "cell_type": "markdown",
   "metadata": {},
   "source": [
    "#### Flight Data"
   ]
  },
  {
   "cell_type": "code",
   "execution_count": null,
   "metadata": {},
   "outputs": [],
   "source": [
    "TestFlight = Flight(rocket=Calisto, environment=Env, inclination=85, heading=0)\n",
    "TestFlight.allInfo()"
   ]
  }
 ],
 "metadata": {
  "interpreter": {
   "hash": "ff1b96742b073cd9c339028b92dfa5a31e3b369b9fd5d121531d243db91cad68"
  },
  "kernelspec": {
   "display_name": "Python 3 (ipykernel)",
   "language": "python",
   "name": "python3"
  },
  "language_info": {
   "codemirror_mode": {
    "name": "ipython",
    "version": 3
   },
   "file_extension": ".py",
   "mimetype": "text/x-python",
   "name": "python",
   "nbconvert_exporter": "python",
   "pygments_lexer": "ipython3",
   "version": "3.9.1"
  }
 },
 "nbformat": 4,
 "nbformat_minor": 2
}
